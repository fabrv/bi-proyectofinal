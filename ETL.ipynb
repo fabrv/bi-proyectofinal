{
 "cells": [
  {
   "cell_type": "code",
   "execution_count": null,
   "metadata": {},
   "outputs": [],
   "source": [
    "import sqlite3\n",
    "import pandas as pd\n",
    "\n",
    "# create a database connection\n",
    "conn = sqlite3.connect('healthcare.db')"
   ]
  },
  {
   "cell_type": "code",
   "execution_count": null,
   "metadata": {},
   "outputs": [],
   "source": [
    "# define the table structures\n",
    "issuer_table = \"\"\"\n",
    "CREATE TABLE IF NOT EXISTS Issuer (\n",
    "    ID INTEGER PRIMARY KEY,\n",
    "    NAME TEXT NOT NULL,\n",
    "    STATE TEXT NOT NULL\n",
    ");\n",
    "\"\"\"\n",
    "\n",
    "plan_table = \"\"\"\n",
    "CREATE TABLE IF NOT EXISTS Plan (\n",
    "    ID INTEGER PRIMARY KEY,\n",
    "    NAME TEXT NOT NULL,\n",
    "    ISSUER_ID INTEGER NOT NULL,\n",
    "    STATE TEXT NOT NULL,\n",
    "    FOREIGN KEY (ISSUER_ID) REFERENCES Issuer(ID)\n",
    ");\n",
    "\"\"\"\n",
    "\n",
    "benefit_table = \"\"\"\n",
    "CREATE TABLE IF NOT EXISTS Benefit (\n",
    "    ID INTEGER PRIMARY KEY,\n",
    "    NAME TEXT NOT NULL,\n",
    "    PLAN_ID INTEGER NOT NULL,\n",
    "    IS_EHB INTEGER NOT NULL,\n",
    "    IS_STATE_MANDATE INTEGER NOT NULL,\n",
    "    IS_COVERED INTEGER NOT NULL,\n",
    "    QUANTITY_LIMIT_ON_SVC INTEGER,\n",
    "    LIMIT_QUANTITY INTEGER,\n",
    "    LIMIT_UNIT TEXT,\n",
    "    MINIMUM_STAY INTEGER,\n",
    "    EXCLUSIONS TEXT,\n",
    "    EXPLANATION TEXT,\n",
    "    EHB_VAR_REASON TEXT,\n",
    "    FOREIGN KEY (PLAN_ID) REFERENCES Plan(ID)\n",
    ");\n",
    "\"\"\"\n",
    "\n",
    "rates_table = \"\"\"\n",
    "CREATE TABLE IF NOT EXISTS Rates (\n",
    "    ID INTEGER PRIMARY KEY,\n",
    "    PLAN_ID INTEGER NOT NULL,\n",
    "    RATING_AREA_ID INTEGER NOT NULL,\n",
    "    TOBACCO TEXT NOT NULL,\n",
    "    AGE INTEGER NOT NULL,\n",
    "    INDIVIDUAL_RATE REAL NOT NULL,\n",
    "    INDIVIDUAL_TOBACCO_RATE REAL NOT NULL,\n",
    "    COUPLE REAL NOT NULL,\n",
    "    PRIMARY_SUBSCRIBER_AND_ONE_DEPENDENT REAL NOT NULL,\n",
    "    PRIMARY_SUBSCRIBER_AND_TWO_DEPENDENTS REAL NOT NULL,\n",
    "    PRIMARY_SUBSCRIBER_AND_THREE_OR_MORE_DEPENDENTS REAL NOT NULL,\n",
    "    COUPLE_AND_ONE_DEPENDENT REAL NOT NULL,\n",
    "    COUPLE_AND_TWO_OR_MORE_DEPENDENTS REAL NOT NULL,\n",
    "    COUPLE_AND_THREE_OR_MORE_DEPENDENTS REAL NOT NULL,\n",
    "    FOREIGN KEY (PLAN_ID) REFERENCES Plan(ID)\n",
    ");\n",
    "\"\"\""
   ]
  },
  {
   "cell_type": "code",
   "execution_count": null,
   "metadata": {},
   "outputs": [],
   "source": [
    "# create the tables in the database\n",
    "cursor = conn.cursor()\n",
    "cursor.execute(issuer_table)\n",
    "cursor.execute(plan_table)\n",
    "cursor.execute(benefit_table)\n",
    "cursor.execute(rates_table)"
   ]
  },
  {
   "cell_type": "code",
   "execution_count": null,
   "metadata": {},
   "outputs": [],
   "source": [
    "# read the CSV files into pandas dataframes\n",
    "issuer_df = pd.read_csv('issuer.csv')\n",
    "plan_df = pd.read_csv('plan.csv')\n",
    "benefit_df = pd.read_csv('benefit.csv')\n",
    "rates_df = pd.read_csv('rates.csv')"
   ]
  },
  {
   "cell_type": "code",
   "execution_count": null,
   "metadata": {},
   "outputs": [],
   "source": [
    "# process the cvs, remove uneeded columns and rename the columns\n"
   ]
  },
  {
   "cell_type": "code",
   "execution_count": null,
   "metadata": {},
   "outputs": [],
   "source": [
    "# insert the data into the database"
   ]
  }
 ],
 "metadata": {
  "language_info": {
   "name": "python"
  },
  "orig_nbformat": 4
 },
 "nbformat": 4,
 "nbformat_minor": 2
}
