{
 "cells": [
  {
   "cell_type": "code",
   "execution_count": 4,
   "metadata": {},
   "outputs": [
    {
     "name": "stdout",
     "output_type": "stream",
     "text": [
      "Defaulting to user installation because normal site-packages is not writeable\n",
      "Requirement already satisfied: pandas in /Users/fabrizziorivera/Library/Python/3.9/lib/python/site-packages (2.0.0)\n",
      "Requirement already satisfied: numpy>=1.20.3 in /Users/fabrizziorivera/Library/Python/3.9/lib/python/site-packages (from pandas) (1.24.2)\n",
      "Requirement already satisfied: python-dateutil>=2.8.2 in /Users/fabrizziorivera/Library/Python/3.9/lib/python/site-packages (from pandas) (2.8.2)\n",
      "Requirement already satisfied: pytz>=2020.1 in /Users/fabrizziorivera/Library/Python/3.9/lib/python/site-packages (from pandas) (2023.3)\n",
      "Requirement already satisfied: tzdata>=2022.1 in /Users/fabrizziorivera/Library/Python/3.9/lib/python/site-packages (from pandas) (2023.3)\n",
      "Requirement already satisfied: six>=1.5 in /Library/Developer/CommandLineTools/Library/Frameworks/Python3.framework/Versions/3.9/lib/python3.9/site-packages (from python-dateutil>=2.8.2->pandas) (1.15.0)\n",
      "\u001b[33mWARNING: You are using pip version 21.2.4; however, version 23.1 is available.\n",
      "You should consider upgrading via the '/Library/Developer/CommandLineTools/usr/bin/python3 -m pip install --upgrade pip' command.\u001b[0m\n"
     ]
    }
   ],
   "source": [
    "import sys\n",
    "!{sys.executable} -m pip install pandas"
   ]
  },
  {
   "cell_type": "code",
   "execution_count": 5,
   "metadata": {},
   "outputs": [],
   "source": [
    "import sqlite3\n",
    "import pandas as pd\n",
    "\n",
    "# create a database connection\n",
    "conn = sqlite3.connect('healthcare.db')"
   ]
  },
  {
   "cell_type": "code",
   "execution_count": 6,
   "metadata": {},
   "outputs": [],
   "source": [
    "# create the tables in the database\n",
    "cursor = conn.cursor()"
   ]
  },
  {
   "cell_type": "code",
   "execution_count": 7,
   "metadata": {},
   "outputs": [
    {
     "name": "stderr",
     "output_type": "stream",
     "text": [
      "/var/folders/w4/mky_skrx5fl9dqyyh_0fy5p40000gp/T/ipykernel_57437/3850283623.py:2: DtypeWarning: Columns (9,12,19) have mixed types. Specify dtype option on import or set low_memory=False.\n",
      "  benefit_df = pd.read_csv('benefits.csv')\n",
      "/var/folders/w4/mky_skrx5fl9dqyyh_0fy5p40000gp/T/ipykernel_57437/3850283623.py:3: DtypeWarning: Columns (27,64,80,81,82,86,87,88,89,90,91,111,122,123,124,125,147,148) have mixed types. Specify dtype option on import or set low_memory=False.\n",
      "  plans_df = pd.read_csv('plans.csv')\n"
     ]
    }
   ],
   "source": [
    "# read the CSV files into pandas dataframes\n",
    "benefit_df = pd.read_csv('benefits.csv')\n",
    "plans_df = pd.read_csv('plans.csv')\n",
    "rates_df = pd.read_csv('rates.csv')"
   ]
  },
  {
   "cell_type": "code",
   "execution_count": 8,
   "metadata": {},
   "outputs": [],
   "source": [
    "# Filter By 10 Most Populous States and Drop Unnecessary Columns\n",
    "top10USStatesByPopulation = ['CA', 'TX', 'FL', 'NY', 'PA', 'IL', 'OH', 'GA', 'NC', 'MI']\n",
    "# missing states = CA, NY, PA\n",
    "benefit_df = benefit_df[benefit_df['StateCode'].isin(top10USStatesByPopulation)]\n",
    "plans_df = plans_df[plans_df['StateCode'].isin(top10USStatesByPopulation)]\n",
    "rates_df = rates_df[rates_df['StateCode'].isin(top10USStatesByPopulation)]\n",
    "\n",
    "rates_df_filtered = rates_df.drop(['BusinessYear', 'StateCode', 'IssuerId', 'SourceName', 'ImportDate', 'RateEffectiveDate', 'RateExpirationDate', 'RatingAreaId'], axis=1)\n",
    "plans_df_filtered = plans_df.drop(['BusinessYear', 'IssuerId', 'SourceName', 'ImportDate', 'PlanBrochure', 'URLForSummaryofBenefitsCoverage', 'HSAOrHRAEmployerContribution', 'HSAOrHRAEmployerContributionAmount', 'InpatientCopaymentMaximumDays', 'NationalNetwork', 'OutOfCountryCoverageDescription', 'OutOfServiceAreaCoverage', 'EHBPediatricDentalApportionmentQuantity', 'DesignType', 'MetalLevel'], axis=1)\n",
    "benefit_df_filtered = benefit_df.drop(['BusinessYear', 'StateCode', 'IssuerId', 'SourceName', 'ImportDate', 'StandardComponentId', 'CopayInnTier1', 'CopayInnTier2', 'CopayOutofNet', 'CoinsInnTier1', 'CoinsInnTier2', 'CoinsOutofNet', 'Exclusions', 'Explanation', 'EHBVarReason', 'IsExclFromInnMOOP', 'IsExclFromOonMOOP'], axis=1)"
   ]
  },
  {
   "cell_type": "code",
   "execution_count": 9,
   "metadata": {},
   "outputs": [
    {
     "data": {
      "text/plain": [
       "1113553"
      ]
     },
     "execution_count": 9,
     "metadata": {},
     "output_type": "execute_result"
    }
   ],
   "source": [
    "# insert the data into the database\n",
    "rates_df_filtered.to_sql('Rates', conn, if_exists='replace', index=False)\n",
    "plans_df_filtered.to_sql('Plan', conn, if_exists='replace', index=False)\n",
    "benefit_df_filtered.to_sql('Benefit', conn, if_exists='replace', index=False)"
   ]
  },
  {
   "cell_type": "code",
   "execution_count": null,
   "metadata": {},
   "outputs": [],
   "source": []
  }
 ],
 "metadata": {
  "kernelspec": {
   "display_name": "Python 3",
   "language": "python",
   "name": "python3"
  },
  "language_info": {
   "codemirror_mode": {
    "name": "ipython",
    "version": 3
   },
   "file_extension": ".py",
   "mimetype": "text/x-python",
   "name": "python",
   "nbconvert_exporter": "python",
   "pygments_lexer": "ipython3",
   "version": "3.9.6"
  },
  "orig_nbformat": 4
 },
 "nbformat": 4,
 "nbformat_minor": 2
}
